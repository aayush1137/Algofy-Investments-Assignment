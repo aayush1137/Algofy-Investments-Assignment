{
 "cells": [
  {
   "cell_type": "code",
   "execution_count": 47,
   "id": "9f4e366f-7432-4b7b-9b0e-31ea7c1bdedc",
   "metadata": {},
   "outputs": [
    {
     "data": {
      "text/html": [
       "<div>\n",
       "<style scoped>\n",
       "    .dataframe tbody tr th:only-of-type {\n",
       "        vertical-align: middle;\n",
       "    }\n",
       "\n",
       "    .dataframe tbody tr th {\n",
       "        vertical-align: top;\n",
       "    }\n",
       "\n",
       "    .dataframe thead th {\n",
       "        text-align: right;\n",
       "    }\n",
       "</style>\n",
       "<table border=\"1\" class=\"dataframe\">\n",
       "  <thead>\n",
       "    <tr style=\"text-align: right;\">\n",
       "      <th></th>\n",
       "      <th>Unnamed: 0</th>\n",
       "      <th>date</th>\n",
       "      <th>time</th>\n",
       "      <th>date and time</th>\n",
       "      <th>open</th>\n",
       "      <th>high</th>\n",
       "      <th>low</th>\n",
       "      <th>close</th>\n",
       "      <th>volume</th>\n",
       "    </tr>\n",
       "  </thead>\n",
       "  <tbody>\n",
       "    <tr>\n",
       "      <th>0</th>\n",
       "      <td>0</td>\n",
       "      <td>03/01/22</td>\n",
       "      <td>9:15 AM</td>\n",
       "      <td>03/01/22 9:15</td>\n",
       "      <td>252.70</td>\n",
       "      <td>254.25</td>\n",
       "      <td>252.35</td>\n",
       "      <td>252.60</td>\n",
       "      <td>319790</td>\n",
       "    </tr>\n",
       "    <tr>\n",
       "      <th>1</th>\n",
       "      <td>1</td>\n",
       "      <td>03/01/22</td>\n",
       "      <td>9:30 AM</td>\n",
       "      <td>03/01/22 9:30</td>\n",
       "      <td>252.60</td>\n",
       "      <td>253.65</td>\n",
       "      <td>251.75</td>\n",
       "      <td>252.80</td>\n",
       "      <td>220927</td>\n",
       "    </tr>\n",
       "    <tr>\n",
       "      <th>2</th>\n",
       "      <td>2</td>\n",
       "      <td>03/01/22</td>\n",
       "      <td>9:45 AM</td>\n",
       "      <td>03/01/22 9:45</td>\n",
       "      <td>252.95</td>\n",
       "      <td>254.90</td>\n",
       "      <td>252.30</td>\n",
       "      <td>252.85</td>\n",
       "      <td>526445</td>\n",
       "    </tr>\n",
       "    <tr>\n",
       "      <th>3</th>\n",
       "      <td>3</td>\n",
       "      <td>03/01/22</td>\n",
       "      <td>10:00 AM</td>\n",
       "      <td>03/01/22 10:00</td>\n",
       "      <td>252.85</td>\n",
       "      <td>253.15</td>\n",
       "      <td>252.40</td>\n",
       "      <td>252.55</td>\n",
       "      <td>280414</td>\n",
       "    </tr>\n",
       "    <tr>\n",
       "      <th>4</th>\n",
       "      <td>4</td>\n",
       "      <td>03/01/22</td>\n",
       "      <td>10:15 AM</td>\n",
       "      <td>2022-01-03 10:15:00</td>\n",
       "      <td>252.55</td>\n",
       "      <td>253.10</td>\n",
       "      <td>252.25</td>\n",
       "      <td>252.80</td>\n",
       "      <td>112875</td>\n",
       "    </tr>\n",
       "    <tr>\n",
       "      <th>...</th>\n",
       "      <td>...</td>\n",
       "      <td>...</td>\n",
       "      <td>...</td>\n",
       "      <td>...</td>\n",
       "      <td>...</td>\n",
       "      <td>...</td>\n",
       "      <td>...</td>\n",
       "      <td>...</td>\n",
       "      <td>...</td>\n",
       "    </tr>\n",
       "    <tr>\n",
       "      <th>1995</th>\n",
       "      <td>1995</td>\n",
       "      <td>29/04/22</td>\n",
       "      <td>2:15 PM</td>\n",
       "      <td>2022-04-29 14:15:00</td>\n",
       "      <td>336.85</td>\n",
       "      <td>337.95</td>\n",
       "      <td>334.35</td>\n",
       "      <td>337.05</td>\n",
       "      <td>687194</td>\n",
       "    </tr>\n",
       "    <tr>\n",
       "      <th>1996</th>\n",
       "      <td>1996</td>\n",
       "      <td>29/04/22</td>\n",
       "      <td>2:30 PM</td>\n",
       "      <td>2022-04-29 14:30:00</td>\n",
       "      <td>337.05</td>\n",
       "      <td>338.65</td>\n",
       "      <td>336.80</td>\n",
       "      <td>338.25</td>\n",
       "      <td>215018</td>\n",
       "    </tr>\n",
       "    <tr>\n",
       "      <th>1997</th>\n",
       "      <td>1997</td>\n",
       "      <td>29/04/22</td>\n",
       "      <td>2:45 PM</td>\n",
       "      <td>2022-04-29 14:45:00</td>\n",
       "      <td>338.00</td>\n",
       "      <td>338.80</td>\n",
       "      <td>337.10</td>\n",
       "      <td>338.05</td>\n",
       "      <td>155628</td>\n",
       "    </tr>\n",
       "    <tr>\n",
       "      <th>1998</th>\n",
       "      <td>1998</td>\n",
       "      <td>29/04/22</td>\n",
       "      <td>3:00 PM</td>\n",
       "      <td>2022-04-29 15:00:00</td>\n",
       "      <td>338.15</td>\n",
       "      <td>338.40</td>\n",
       "      <td>333.50</td>\n",
       "      <td>334.60</td>\n",
       "      <td>521086</td>\n",
       "    </tr>\n",
       "    <tr>\n",
       "      <th>1999</th>\n",
       "      <td>1999</td>\n",
       "      <td>29/04/22</td>\n",
       "      <td>3:15 PM</td>\n",
       "      <td>2022-04-29 15:15:00</td>\n",
       "      <td>334.70</td>\n",
       "      <td>334.90</td>\n",
       "      <td>332.70</td>\n",
       "      <td>333.50</td>\n",
       "      <td>457038</td>\n",
       "    </tr>\n",
       "  </tbody>\n",
       "</table>\n",
       "<p>2000 rows × 9 columns</p>\n",
       "</div>"
      ],
      "text/plain": [
       "      Unnamed: 0      date      time        date and time    open    high  \\\n",
       "0              0  03/01/22   9:15 AM        03/01/22 9:15  252.70  254.25   \n",
       "1              1  03/01/22   9:30 AM        03/01/22 9:30  252.60  253.65   \n",
       "2              2  03/01/22   9:45 AM        03/01/22 9:45  252.95  254.90   \n",
       "3              3  03/01/22  10:00 AM       03/01/22 10:00  252.85  253.15   \n",
       "4              4  03/01/22  10:15 AM  2022-01-03 10:15:00  252.55  253.10   \n",
       "...          ...       ...       ...                  ...     ...     ...   \n",
       "1995        1995  29/04/22   2:15 PM  2022-04-29 14:15:00  336.85  337.95   \n",
       "1996        1996  29/04/22   2:30 PM  2022-04-29 14:30:00  337.05  338.65   \n",
       "1997        1997  29/04/22   2:45 PM  2022-04-29 14:45:00  338.00  338.80   \n",
       "1998        1998  29/04/22   3:00 PM  2022-04-29 15:00:00  338.15  338.40   \n",
       "1999        1999  29/04/22   3:15 PM  2022-04-29 15:15:00  334.70  334.90   \n",
       "\n",
       "         low   close  volume  \n",
       "0     252.35  252.60  319790  \n",
       "1     251.75  252.80  220927  \n",
       "2     252.30  252.85  526445  \n",
       "3     252.40  252.55  280414  \n",
       "4     252.25  252.80  112875  \n",
       "...      ...     ...     ...  \n",
       "1995  334.35  337.05  687194  \n",
       "1996  336.80  338.25  215018  \n",
       "1997  337.10  338.05  155628  \n",
       "1998  333.50  334.60  521086  \n",
       "1999  332.70  333.50  457038  \n",
       "\n",
       "[2000 rows x 9 columns]"
      ]
     },
     "execution_count": 47,
     "metadata": {},
     "output_type": "execute_result"
    }
   ],
   "source": [
    "#importing necessary libraries and data \n",
    "import pandas as pd\n",
    "import matplotlib.pyplot as plt\n",
    "import numpy as np\n",
    "url='sample_data.csv'\n",
    "data=pd.read_csv(url)\n",
    "data"
   ]
  },
  {
   "cell_type": "code",
   "execution_count": 62,
   "id": "969384a0-4b93-4015-be5a-bb4e0f3ffef6",
   "metadata": {},
   "outputs": [
    {
     "name": "stdout",
     "output_type": "stream",
     "text": [
      "Requirement already satisfied: yfinance in /opt/anaconda3/lib/python3.8/site-packages (0.1.63)\n",
      "Requirement already satisfied: lxml>=4.5.1 in /opt/anaconda3/lib/python3.8/site-packages (from yfinance) (4.6.3)\n",
      "Requirement already satisfied: multitasking>=0.0.7 in /opt/anaconda3/lib/python3.8/site-packages (from yfinance) (0.0.9)\n",
      "Requirement already satisfied: requests>=2.20 in /opt/anaconda3/lib/python3.8/site-packages (from yfinance) (2.25.1)\n",
      "Requirement already satisfied: pandas>=0.24 in /opt/anaconda3/lib/python3.8/site-packages (from yfinance) (1.2.4)\n",
      "Requirement already satisfied: numpy>=1.15 in /opt/anaconda3/lib/python3.8/site-packages (from yfinance) (1.20.1)\n",
      "Requirement already satisfied: python-dateutil>=2.7.3 in /opt/anaconda3/lib/python3.8/site-packages (from pandas>=0.24->yfinance) (2.8.1)\n",
      "Requirement already satisfied: pytz>=2017.3 in /opt/anaconda3/lib/python3.8/site-packages (from pandas>=0.24->yfinance) (2021.1)\n",
      "Requirement already satisfied: six>=1.5 in /opt/anaconda3/lib/python3.8/site-packages (from python-dateutil>=2.7.3->pandas>=0.24->yfinance) (1.15.0)\n",
      "Requirement already satisfied: certifi>=2017.4.17 in /opt/anaconda3/lib/python3.8/site-packages (from requests>=2.20->yfinance) (2020.12.5)\n",
      "Requirement already satisfied: chardet<5,>=3.0.2 in /opt/anaconda3/lib/python3.8/site-packages (from requests>=2.20->yfinance) (4.0.0)\n",
      "Requirement already satisfied: idna<3,>=2.5 in /opt/anaconda3/lib/python3.8/site-packages (from requests>=2.20->yfinance) (2.10)\n",
      "Requirement already satisfied: urllib3<1.27,>=1.21.1 in /opt/anaconda3/lib/python3.8/site-packages (from requests>=2.20->yfinance) (1.26.4)\n"
     ]
    }
   ],
   "source": [
    "!pip install yfinance\n",
    "import yfinance"
   ]
  },
  {
   "cell_type": "code",
   "execution_count": 48,
   "id": "4810b39a-239d-44ef-a238-55e33c064569",
   "metadata": {},
   "outputs": [],
   "source": [
    "#dropping unnecessary column\n",
    "data.drop(['Unnamed: 0'],axis=1, inplace=True)"
   ]
  },
  {
   "cell_type": "code",
   "execution_count": 49,
   "id": "512dfe57-e243-4985-9da6-3b6f2766278a",
   "metadata": {},
   "outputs": [
    {
     "data": {
      "text/html": [
       "<div>\n",
       "<style scoped>\n",
       "    .dataframe tbody tr th:only-of-type {\n",
       "        vertical-align: middle;\n",
       "    }\n",
       "\n",
       "    .dataframe tbody tr th {\n",
       "        vertical-align: top;\n",
       "    }\n",
       "\n",
       "    .dataframe thead th {\n",
       "        text-align: right;\n",
       "    }\n",
       "</style>\n",
       "<table border=\"1\" class=\"dataframe\">\n",
       "  <thead>\n",
       "    <tr style=\"text-align: right;\">\n",
       "      <th></th>\n",
       "      <th>date</th>\n",
       "      <th>time</th>\n",
       "      <th>date and time</th>\n",
       "      <th>open</th>\n",
       "      <th>high</th>\n",
       "      <th>low</th>\n",
       "      <th>close</th>\n",
       "      <th>volume</th>\n",
       "    </tr>\n",
       "  </thead>\n",
       "  <tbody>\n",
       "    <tr>\n",
       "      <th>count</th>\n",
       "      <td>2000</td>\n",
       "      <td>2000</td>\n",
       "      <td>2000</td>\n",
       "      <td>2000.000000</td>\n",
       "      <td>2000.000000</td>\n",
       "      <td>2000.000000</td>\n",
       "      <td>2000.000000</td>\n",
       "      <td>2.000000e+03</td>\n",
       "    </tr>\n",
       "    <tr>\n",
       "      <th>unique</th>\n",
       "      <td>80</td>\n",
       "      <td>25</td>\n",
       "      <td>2000</td>\n",
       "      <td>NaN</td>\n",
       "      <td>NaN</td>\n",
       "      <td>NaN</td>\n",
       "      <td>NaN</td>\n",
       "      <td>NaN</td>\n",
       "    </tr>\n",
       "    <tr>\n",
       "      <th>top</th>\n",
       "      <td>25/01/22</td>\n",
       "      <td>12:00 PM</td>\n",
       "      <td>2022-01-10 10:00:00</td>\n",
       "      <td>NaN</td>\n",
       "      <td>NaN</td>\n",
       "      <td>NaN</td>\n",
       "      <td>NaN</td>\n",
       "      <td>NaN</td>\n",
       "    </tr>\n",
       "    <tr>\n",
       "      <th>freq</th>\n",
       "      <td>25</td>\n",
       "      <td>80</td>\n",
       "      <td>1</td>\n",
       "      <td>NaN</td>\n",
       "      <td>NaN</td>\n",
       "      <td>NaN</td>\n",
       "      <td>NaN</td>\n",
       "      <td>NaN</td>\n",
       "    </tr>\n",
       "    <tr>\n",
       "      <th>mean</th>\n",
       "      <td>NaN</td>\n",
       "      <td>NaN</td>\n",
       "      <td>NaN</td>\n",
       "      <td>304.072050</td>\n",
       "      <td>305.112750</td>\n",
       "      <td>303.062375</td>\n",
       "      <td>304.087500</td>\n",
       "      <td>3.995450e+05</td>\n",
       "    </tr>\n",
       "    <tr>\n",
       "      <th>std</th>\n",
       "      <td>NaN</td>\n",
       "      <td>NaN</td>\n",
       "      <td>NaN</td>\n",
       "      <td>23.117987</td>\n",
       "      <td>23.129187</td>\n",
       "      <td>23.076869</td>\n",
       "      <td>23.100806</td>\n",
       "      <td>4.938786e+05</td>\n",
       "    </tr>\n",
       "    <tr>\n",
       "      <th>min</th>\n",
       "      <td>NaN</td>\n",
       "      <td>NaN</td>\n",
       "      <td>NaN</td>\n",
       "      <td>249.850000</td>\n",
       "      <td>250.150000</td>\n",
       "      <td>249.000000</td>\n",
       "      <td>249.800000</td>\n",
       "      <td>2.229300e+04</td>\n",
       "    </tr>\n",
       "    <tr>\n",
       "      <th>25%</th>\n",
       "      <td>NaN</td>\n",
       "      <td>NaN</td>\n",
       "      <td>NaN</td>\n",
       "      <td>293.187500</td>\n",
       "      <td>294.125000</td>\n",
       "      <td>292.112500</td>\n",
       "      <td>293.250000</td>\n",
       "      <td>1.471022e+05</td>\n",
       "    </tr>\n",
       "    <tr>\n",
       "      <th>50%</th>\n",
       "      <td>NaN</td>\n",
       "      <td>NaN</td>\n",
       "      <td>NaN</td>\n",
       "      <td>306.525000</td>\n",
       "      <td>307.975000</td>\n",
       "      <td>305.550000</td>\n",
       "      <td>306.675000</td>\n",
       "      <td>2.484240e+05</td>\n",
       "    </tr>\n",
       "    <tr>\n",
       "      <th>75%</th>\n",
       "      <td>NaN</td>\n",
       "      <td>NaN</td>\n",
       "      <td>NaN</td>\n",
       "      <td>321.700000</td>\n",
       "      <td>322.500000</td>\n",
       "      <td>320.700000</td>\n",
       "      <td>321.650000</td>\n",
       "      <td>4.841755e+05</td>\n",
       "    </tr>\n",
       "    <tr>\n",
       "      <th>max</th>\n",
       "      <td>NaN</td>\n",
       "      <td>NaN</td>\n",
       "      <td>NaN</td>\n",
       "      <td>341.100000</td>\n",
       "      <td>344.600000</td>\n",
       "      <td>340.300000</td>\n",
       "      <td>341.050000</td>\n",
       "      <td>8.346762e+06</td>\n",
       "    </tr>\n",
       "  </tbody>\n",
       "</table>\n",
       "</div>"
      ],
      "text/plain": [
       "            date      time        date and time         open         high  \\\n",
       "count       2000      2000                 2000  2000.000000  2000.000000   \n",
       "unique        80        25                 2000          NaN          NaN   \n",
       "top     25/01/22  12:00 PM  2022-01-10 10:00:00          NaN          NaN   \n",
       "freq          25        80                    1          NaN          NaN   \n",
       "mean         NaN       NaN                  NaN   304.072050   305.112750   \n",
       "std          NaN       NaN                  NaN    23.117987    23.129187   \n",
       "min          NaN       NaN                  NaN   249.850000   250.150000   \n",
       "25%          NaN       NaN                  NaN   293.187500   294.125000   \n",
       "50%          NaN       NaN                  NaN   306.525000   307.975000   \n",
       "75%          NaN       NaN                  NaN   321.700000   322.500000   \n",
       "max          NaN       NaN                  NaN   341.100000   344.600000   \n",
       "\n",
       "                low        close        volume  \n",
       "count   2000.000000  2000.000000  2.000000e+03  \n",
       "unique          NaN          NaN           NaN  \n",
       "top             NaN          NaN           NaN  \n",
       "freq            NaN          NaN           NaN  \n",
       "mean     303.062375   304.087500  3.995450e+05  \n",
       "std       23.076869    23.100806  4.938786e+05  \n",
       "min      249.000000   249.800000  2.229300e+04  \n",
       "25%      292.112500   293.250000  1.471022e+05  \n",
       "50%      305.550000   306.675000  2.484240e+05  \n",
       "75%      320.700000   321.650000  4.841755e+05  \n",
       "max      340.300000   341.050000  8.346762e+06  "
      ]
     },
     "execution_count": 49,
     "metadata": {},
     "output_type": "execute_result"
    }
   ],
   "source": [
    "#Basic description of the whole dataset\n",
    "data.describe(include='all')"
   ]
  },
  {
   "cell_type": "code",
   "execution_count": 50,
   "id": "79f694ab-dd2c-4cb7-8651-80f2f9ae7105",
   "metadata": {},
   "outputs": [
    {
     "data": {
      "text/plain": [
       "<AxesSubplot:xlabel='date'>"
      ]
     },
     "execution_count": 50,
     "metadata": {},
     "output_type": "execute_result"
    },
    {
     "data": {
      "image/png": "[encoded data removed]",
      "text/plain": [
       "<Figure size 1440x720 with 1 Axes>"
      ]
     },
     "metadata": {
      "needs_background": "light"
     },
     "output_type": "display_data"
    }
   ],
   "source": [
    "#plot of closing price for each day.\n",
    "data.plot(x='date', y='close', figsize=(20,10))"
   ]
  },
  {
   "cell_type": "markdown",
   "id": "9bb71955-71df-4627-bc0f-4272777a72e2",
   "metadata": {},
   "source": [
    "Graph shows a steep decline in the closing price of the stock between 15/02/2022 and 10/03/2022,then a steady incease to present day,with the closing price being some of the highest"
   ]
  },
  {
   "cell_type": "code",
   "execution_count": 51,
   "id": "89c8e16a-734c-4122-9feb-3bd62f0d879f",
   "metadata": {},
   "outputs": [
    {
     "data": {
      "text/plain": [
       "1       0.000792\n",
       "2       0.000198\n",
       "3      -0.001186\n",
       "4       0.000990\n",
       "5      -0.000989\n",
       "          ...   \n",
       "1995    0.000594\n",
       "1996    0.003560\n",
       "1997   -0.000591\n",
       "1998   -0.010206\n",
       "1999   -0.003288\n",
       "Name: close, Length: 1999, dtype: float64"
      ]
     },
     "execution_count": 51,
     "metadata": {},
     "output_type": "execute_result"
    }
   ],
   "source": [
    "#calculating the daily returns or percentage change of closing price between each day\n",
    "daily_returns = data['close'].pct_change(1).dropna()\n",
    "daily_returns\n"
   ]
  },
  {
   "cell_type": "code",
   "execution_count": 53,
   "id": "48917661-55c8-430e-ab23-7b127db70cf5",
   "metadata": {},
   "outputs": [
    {
     "data": {
      "image/png": "[encoded data removed]",
      "text/plain": [
       "<Figure size 432x288 with 1 Axes>"
      ]
     },
     "metadata": {
      "needs_background": "light"
     },
     "output_type": "display_data"
    }
   ],
   "source": [
    "#histogram for probability distribution of returns\n",
    "plt.hist(daily_returns,bins='rice',label=\"Daily close price\")\n",
    "plt.legend()\n",
    "plt.show()"
   ]
  },
  {
   "cell_type": "markdown",
   "id": "dbfacfe7-06ce-4650-ac5d-ab71af573739",
   "metadata": {},
   "source": [
    "We can see it's just about centered around zero"
   ]
  },
  {
   "cell_type": "code",
   "execution_count": 54,
   "id": "fbae45e6-da87-4a7a-8863-3f253cfb6e11",
   "metadata": {},
   "outputs": [
    {
     "data": {
      "image/png": "[encoded data removed]",
      "text/plain": [
       "<Figure size 432x288 with 1 Axes>"
      ]
     },
     "metadata": {
      "needs_background": "light"
     },
     "output_type": "display_data"
    }
   ],
   "source": [
    "#creating a boxplot to see distribution of the dataset\n",
    "plt.boxplot(daily_returns,labels=[\"Daily close price\"])\n",
    "plt.show()"
   ]
  },
  {
   "cell_type": "markdown",
   "id": "2709a9f2-9c04-497e-98e2-fd02ba11f1d6",
   "metadata": {},
   "source": [
    "since the IQR is small compared to the entire dataset we can see that there are a lot of outliers.\n"
   ]
  },
  {
   "cell_type": "code",
   "execution_count": 55,
   "id": "1d029971-8973-432a-9c4e-f055e2bd8bf5",
   "metadata": {},
   "outputs": [
    {
     "data": {
      "text/plain": [
       "0.000154047334251948"
      ]
     },
     "execution_count": 55,
     "metadata": {},
     "output_type": "execute_result"
    }
   ],
   "source": [
    "#other observations\n",
    "np.mean(daily_returns)\n",
    "#mean is close to zero but positive which is a good sign."
   ]
  },
  {
   "cell_type": "code",
   "execution_count": 56,
   "id": "c7a22819-7fe6-4f19-b2dd-3dd6ea958e85",
   "metadata": {},
   "outputs": [
    {
     "data": {
      "text/plain": [
       "0.005492962597543103"
      ]
     },
     "execution_count": 56,
     "metadata": {},
     "output_type": "execute_result"
    }
   ],
   "source": [
    "np.std(daily_returns)\n",
    "#standard deviation is close to zero but still higher than mean, this suggests that the stock is relaatively less risky."
   ]
  },
  {
   "cell_type": "code",
   "execution_count": 58,
   "id": "1187cce4-7f45-4e18-b356-157b82a122cb",
   "metadata": {},
   "outputs": [
    {
     "data": {
      "text/plain": [
       "0.0"
      ]
     },
     "execution_count": 58,
     "metadata": {},
     "output_type": "execute_result"
    }
   ],
   "source": [
    "np.quantile(daily_returns, 0.5)\n",
    "#since the median is close to the mean, the suggestion is that the distribution is symmetrical."
   ]
  }
 ],
 "metadata": {
  "kernelspec": {
   "display_name": "Python 3",
   "language": "python",
   "name": "python3"
  },
  "language_info": {
   "codemirror_mode": {
    "name": "ipython",
    "version": 3
   },
   "file_extension": ".py",
   "mimetype": "text/x-python",
   "name": "python",
   "nbconvert_exporter": "python",
   "pygments_lexer": "ipython3",
   "version": "3.8.8"
  }
 },
 "nbformat": 4,
 "nbformat_minor": 5
}
